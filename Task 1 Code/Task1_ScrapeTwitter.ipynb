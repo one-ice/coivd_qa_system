{
 "cells": [
  {
   "cell_type": "markdown",
   "metadata": {},
   "source": [
    "# Scraping Twitter data "
   ]
  },
  {
   "cell_type": "code",
   "execution_count": 1,
   "metadata": {},
   "outputs": [],
   "source": [
    "import snscrape.modules.twitter as sntwitter\n",
    "import pandas as pd\n",
    "import nltk\n",
    "import os"
   ]
  },
  {
   "cell_type": "code",
   "execution_count": 20,
   "metadata": {},
   "outputs": [
    {
     "name": "stdout",
     "output_type": "stream",
     "text": [
      "Wall time: 19min 21s\n"
     ]
    }
   ],
   "source": [
    "%%time\n",
    "# Setting variables to be used below\n",
    "maxTweets = 35000\n",
    "\n",
    "# Creating list to append tweet data to\n",
    "tweets_list1 = []\n",
    "\n",
    "# Using TwitterSearchScraper to scrape data and append tweets to list\n",
    "for i,tweet in enumerate(sntwitter.TwitterSearchScraper('covid since:2022-01-01 until:2022-02-01 lang:en').get_items()):\n",
    "    if i>maxTweets:\n",
    "        break\n",
    "    tweets_list1.append([tweet.date, tweet.id, tweet.content, tweet.user.username])"
   ]
  },
  {
   "cell_type": "code",
   "execution_count": 21,
   "metadata": {},
   "outputs": [
    {
     "data": {
      "text/html": [
       "<div>\n",
       "<style scoped>\n",
       "    .dataframe tbody tr th:only-of-type {\n",
       "        vertical-align: middle;\n",
       "    }\n",
       "\n",
       "    .dataframe tbody tr th {\n",
       "        vertical-align: top;\n",
       "    }\n",
       "\n",
       "    .dataframe thead th {\n",
       "        text-align: right;\n",
       "    }\n",
       "</style>\n",
       "<table border=\"1\" class=\"dataframe\">\n",
       "  <thead>\n",
       "    <tr style=\"text-align: right;\">\n",
       "      <th></th>\n",
       "      <th>Datetime</th>\n",
       "      <th>Tweet Id</th>\n",
       "      <th>Text</th>\n",
       "      <th>Username</th>\n",
       "    </tr>\n",
       "  </thead>\n",
       "  <tbody>\n",
       "    <tr>\n",
       "      <th>0</th>\n",
       "      <td>2022-01-31 23:59:59+00:00</td>\n",
       "      <td>1488301063983800328</td>\n",
       "      <td>@elonmusk they #doged the covid...</td>\n",
       "      <td>libertarianbot2</td>\n",
       "    </tr>\n",
       "    <tr>\n",
       "      <th>1</th>\n",
       "      <td>2022-01-31 23:59:59+00:00</td>\n",
       "      <td>1488301063471992832</td>\n",
       "      <td>Went to to skate and came home to Covid tests on my porch 🥲</td>\n",
       "      <td>wiltedfruit</td>\n",
       "    </tr>\n",
       "    <tr>\n",
       "      <th>2</th>\n",
       "      <td>2022-01-31 23:59:59+00:00</td>\n",
       "      <td>1488301063111331842</td>\n",
       "      <td>@NickMarHawgnez I got my shot in March of last year. I was never sold “you can’t get COVId after being vaxed” common sense. You get the flu shot you can sti...</td>\n",
       "      <td>RzbkMike</td>\n",
       "    </tr>\n",
       "    <tr>\n",
       "      <th>3</th>\n",
       "      <td>2022-01-31 23:59:59+00:00</td>\n",
       "      <td>1488301062113144835</td>\n",
       "      <td>Hey, @washingtonpost \\n\\n👀 Just look at all the racist, white supremacist fascists protesting #covid mandates in Nuremberg, Germany. \\n\\nLooks like #freedom...</td>\n",
       "      <td>iSassafras</td>\n",
       "    </tr>\n",
       "    <tr>\n",
       "      <th>4</th>\n",
       "      <td>2022-01-31 23:59:59+00:00</td>\n",
       "      <td>1488301061953646593</td>\n",
       "      <td>@Deeper_Gen @abcnews Why are we asking economists about covid mortality?? They aren't qualified.</td>\n",
       "      <td>callum6052</td>\n",
       "    </tr>\n",
       "    <tr>\n",
       "      <th>...</th>\n",
       "      <td>...</td>\n",
       "      <td>...</td>\n",
       "      <td>...</td>\n",
       "      <td>...</td>\n",
       "    </tr>\n",
       "    <tr>\n",
       "      <th>34996</th>\n",
       "      <td>2022-01-31 21:19:32+00:00</td>\n",
       "      <td>1488260685763166211</td>\n",
       "      <td>Spotify Announces Addition Of Content Warnings In Response To Joe Rogan Covid-19 Misinformation Criticism https://t.co/k6IeKEoQBo #musicnews</td>\n",
       "      <td>bloodforvinyl</td>\n",
       "    </tr>\n",
       "    <tr>\n",
       "      <th>34997</th>\n",
       "      <td>2022-01-31 21:19:32+00:00</td>\n",
       "      <td>1488260684244787202</td>\n",
       "      <td>@OgleConnie 3 books in this month !  We had covid in the house , so more time to read .</td>\n",
       "      <td>AnxiouslyReads</td>\n",
       "    </tr>\n",
       "    <tr>\n",
       "      <th>34998</th>\n",
       "      <td>2022-01-31 21:19:32+00:00</td>\n",
       "      <td>1488260684106420226</td>\n",
       "      <td>I guess covid kissed his ass.\\n#COVIDIOTS https://t.co/jQM53geMZR</td>\n",
       "      <td>Higgs_Boson46</td>\n",
       "    </tr>\n",
       "    <tr>\n",
       "      <th>34999</th>\n",
       "      <td>2022-01-31 21:19:32+00:00</td>\n",
       "      <td>1488260683548422146</td>\n",
       "      <td>@gamingangel IMHO the intention was to distance themselves from COVID. They weren't ALL this privileged and stupid. Masks are a reminder of COVID. Democrats...</td>\n",
       "      <td>heatherwritesss</td>\n",
       "    </tr>\n",
       "    <tr>\n",
       "      <th>35000</th>\n",
       "      <td>2022-01-31 21:19:31+00:00</td>\n",
       "      <td>1488260680293785607</td>\n",
       "      <td>This is the point. This is what makes them criminals.  They KNEW Covid wasn't dangerous, but they ruined our lives anyway. They have to be forced to admit w...</td>\n",
       "      <td>ChristineEasda1</td>\n",
       "    </tr>\n",
       "  </tbody>\n",
       "</table>\n",
       "<p>35001 rows × 4 columns</p>\n",
       "</div>"
      ],
      "text/plain": [
       "                       Datetime             Tweet Id  \\\n",
       "0     2022-01-31 23:59:59+00:00  1488301063983800328   \n",
       "1     2022-01-31 23:59:59+00:00  1488301063471992832   \n",
       "2     2022-01-31 23:59:59+00:00  1488301063111331842   \n",
       "3     2022-01-31 23:59:59+00:00  1488301062113144835   \n",
       "4     2022-01-31 23:59:59+00:00  1488301061953646593   \n",
       "...                         ...                  ...   \n",
       "34996 2022-01-31 21:19:32+00:00  1488260685763166211   \n",
       "34997 2022-01-31 21:19:32+00:00  1488260684244787202   \n",
       "34998 2022-01-31 21:19:32+00:00  1488260684106420226   \n",
       "34999 2022-01-31 21:19:32+00:00  1488260683548422146   \n",
       "35000 2022-01-31 21:19:31+00:00  1488260680293785607   \n",
       "\n",
       "                                                                                                                                                                  Text  \\\n",
       "0                                                                                                                                   @elonmusk they #doged the covid...   \n",
       "1                                                                                                          Went to to skate and came home to Covid tests on my porch 🥲   \n",
       "2      @NickMarHawgnez I got my shot in March of last year. I was never sold “you can’t get COVId after being vaxed” common sense. You get the flu shot you can sti...   \n",
       "3      Hey, @washingtonpost \\n\\n👀 Just look at all the racist, white supremacist fascists protesting #covid mandates in Nuremberg, Germany. \\n\\nLooks like #freedom...   \n",
       "4                                                                     @Deeper_Gen @abcnews Why are we asking economists about covid mortality?? They aren't qualified.   \n",
       "...                                                                                                                                                                ...   \n",
       "34996                     Spotify Announces Addition Of Content Warnings In Response To Joe Rogan Covid-19 Misinformation Criticism https://t.co/k6IeKEoQBo #musicnews   \n",
       "34997                                                                          @OgleConnie 3 books in this month !  We had covid in the house , so more time to read .   \n",
       "34998                                                                                                I guess covid kissed his ass.\\n#COVIDIOTS https://t.co/jQM53geMZR   \n",
       "34999  @gamingangel IMHO the intention was to distance themselves from COVID. They weren't ALL this privileged and stupid. Masks are a reminder of COVID. Democrats...   \n",
       "35000  This is the point. This is what makes them criminals.  They KNEW Covid wasn't dangerous, but they ruined our lives anyway. They have to be forced to admit w...   \n",
       "\n",
       "              Username  \n",
       "0      libertarianbot2  \n",
       "1          wiltedfruit  \n",
       "2             RzbkMike  \n",
       "3           iSassafras  \n",
       "4           callum6052  \n",
       "...                ...  \n",
       "34996    bloodforvinyl  \n",
       "34997   AnxiouslyReads  \n",
       "34998    Higgs_Boson46  \n",
       "34999  heatherwritesss  \n",
       "35000  ChristineEasda1  \n",
       "\n",
       "[35001 rows x 4 columns]"
      ]
     },
     "execution_count": 21,
     "metadata": {},
     "output_type": "execute_result"
    }
   ],
   "source": [
    "# Creating a dataframe from the tweets list above\n",
    "tweets_df1 = pd.DataFrame(tweets_list1, columns=['Datetime', 'Tweet Id', 'Text', 'Username'])\n",
    "pd.options.display.max_colwidth = 160\n",
    "# Display first 5 entries from dataframe\n",
    "tweets_df1"
   ]
  },
  {
   "cell_type": "code",
   "execution_count": 22,
   "metadata": {},
   "outputs": [],
   "source": [
    "tweets_df1.to_csv(\"Jan_2022.csv\")"
   ]
  },
  {
   "cell_type": "code",
   "execution_count": null,
   "metadata": {},
   "outputs": [],
   "source": [
    "import matplotlib.pyplot as plt\n",
    "from collections import Counter\n",
    "from nltk.corpus import stopwords\n",
    "from wordcloud import WordCloud, STOPWORDS"
   ]
  }
 ],
 "metadata": {
  "kernelspec": {
   "display_name": "Python 3",
   "language": "python",
   "name": "python3"
  },
  "language_info": {
   "codemirror_mode": {
    "name": "ipython",
    "version": 3
   },
   "file_extension": ".py",
   "mimetype": "text/x-python",
   "name": "python",
   "nbconvert_exporter": "python",
   "pygments_lexer": "ipython3",
   "version": "3.8.3"
  }
 },
 "nbformat": 4,
 "nbformat_minor": 4
}
